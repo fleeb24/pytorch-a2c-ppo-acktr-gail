{
 "cells": [
  {
   "cell_type": "code",
   "execution_count": 1,
   "metadata": {},
   "outputs": [
    {
     "name": "stderr",
     "output_type": "stream",
     "text": [
      "/is/ei/fleeb/anaconda3/envs/testmj/lib/python3.6/site-packages/tensorboard/compat/tensorflow_stub/dtypes.py:541: FutureWarning: Passing (type, 1) or '1type' as a synonym of type is deprecated; in a future version of numpy, it will be understood as (type, (1,)) / '(1,)type'.\n",
      "  _np_qint8 = np.dtype([(\"qint8\", np.int8, 1)])\n",
      "/is/ei/fleeb/anaconda3/envs/testmj/lib/python3.6/site-packages/tensorboard/compat/tensorflow_stub/dtypes.py:542: FutureWarning: Passing (type, 1) or '1type' as a synonym of type is deprecated; in a future version of numpy, it will be understood as (type, (1,)) / '(1,)type'.\n",
      "  _np_quint8 = np.dtype([(\"quint8\", np.uint8, 1)])\n",
      "/is/ei/fleeb/anaconda3/envs/testmj/lib/python3.6/site-packages/tensorboard/compat/tensorflow_stub/dtypes.py:543: FutureWarning: Passing (type, 1) or '1type' as a synonym of type is deprecated; in a future version of numpy, it will be understood as (type, (1,)) / '(1,)type'.\n",
      "  _np_qint16 = np.dtype([(\"qint16\", np.int16, 1)])\n",
      "/is/ei/fleeb/anaconda3/envs/testmj/lib/python3.6/site-packages/tensorboard/compat/tensorflow_stub/dtypes.py:544: FutureWarning: Passing (type, 1) or '1type' as a synonym of type is deprecated; in a future version of numpy, it will be understood as (type, (1,)) / '(1,)type'.\n",
      "  _np_quint16 = np.dtype([(\"quint16\", np.uint16, 1)])\n",
      "/is/ei/fleeb/anaconda3/envs/testmj/lib/python3.6/site-packages/tensorboard/compat/tensorflow_stub/dtypes.py:545: FutureWarning: Passing (type, 1) or '1type' as a synonym of type is deprecated; in a future version of numpy, it will be understood as (type, (1,)) / '(1,)type'.\n",
      "  _np_qint32 = np.dtype([(\"qint32\", np.int32, 1)])\n",
      "/is/ei/fleeb/anaconda3/envs/testmj/lib/python3.6/site-packages/tensorboard/compat/tensorflow_stub/dtypes.py:550: FutureWarning: Passing (type, 1) or '1type' as a synonym of type is deprecated; in a future version of numpy, it will be understood as (type, (1,)) / '(1,)type'.\n",
      "  np_resource = np.dtype([(\"resource\", np.ubyte, 1)])\n",
      "/is/ei/fleeb/anaconda3/envs/testmj/lib/python3.6/site-packages/tensorflow/python/framework/dtypes.py:516: FutureWarning: Passing (type, 1) or '1type' as a synonym of type is deprecated; in a future version of numpy, it will be understood as (type, (1,)) / '(1,)type'.\n",
      "  _np_qint8 = np.dtype([(\"qint8\", np.int8, 1)])\n",
      "/is/ei/fleeb/anaconda3/envs/testmj/lib/python3.6/site-packages/tensorflow/python/framework/dtypes.py:517: FutureWarning: Passing (type, 1) or '1type' as a synonym of type is deprecated; in a future version of numpy, it will be understood as (type, (1,)) / '(1,)type'.\n",
      "  _np_quint8 = np.dtype([(\"quint8\", np.uint8, 1)])\n",
      "/is/ei/fleeb/anaconda3/envs/testmj/lib/python3.6/site-packages/tensorflow/python/framework/dtypes.py:518: FutureWarning: Passing (type, 1) or '1type' as a synonym of type is deprecated; in a future version of numpy, it will be understood as (type, (1,)) / '(1,)type'.\n",
      "  _np_qint16 = np.dtype([(\"qint16\", np.int16, 1)])\n",
      "/is/ei/fleeb/anaconda3/envs/testmj/lib/python3.6/site-packages/tensorflow/python/framework/dtypes.py:519: FutureWarning: Passing (type, 1) or '1type' as a synonym of type is deprecated; in a future version of numpy, it will be understood as (type, (1,)) / '(1,)type'.\n",
      "  _np_quint16 = np.dtype([(\"quint16\", np.uint16, 1)])\n",
      "/is/ei/fleeb/anaconda3/envs/testmj/lib/python3.6/site-packages/tensorflow/python/framework/dtypes.py:520: FutureWarning: Passing (type, 1) or '1type' as a synonym of type is deprecated; in a future version of numpy, it will be understood as (type, (1,)) / '(1,)type'.\n",
      "  _np_qint32 = np.dtype([(\"qint32\", np.int32, 1)])\n",
      "/is/ei/fleeb/anaconda3/envs/testmj/lib/python3.6/site-packages/tensorflow/python/framework/dtypes.py:525: FutureWarning: Passing (type, 1) or '1type' as a synonym of type is deprecated; in a future version of numpy, it will be understood as (type, (1,)) / '(1,)type'.\n",
      "  np_resource = np.dtype([(\"resource\", np.ubyte, 1)])\n"
     ]
    },
    {
     "name": "stdout",
     "output_type": "stream",
     "text": [
      "Creating offscreen glfw\n"
     ]
    }
   ],
   "source": [
    "import argparse\n",
    "from argparse import Namespace\n",
    "import os\n",
    "# workaround to unpickle olf model files\n",
    "import sys\n",
    "import time\n",
    "from tqdm import tqdm_notebook as tqdm\n",
    "\n",
    "import numpy as np\n",
    "import torch\n",
    "\n",
    "from a2c_ppo_acktr.envs import VecPyTorch, make_vec_envs\n",
    "from a2c_ppo_acktr.utils import get_render_func, get_vec_normalize\n",
    "\n",
    "%matplotlib tk\n",
    "import matplotlib.pyplot as plt\n",
    "\n",
    "from mujoco_py import GlfwContext\n",
    "GlfwContext(offscreen=True)\n",
    "\n",
    "sys.path.append('a2c_ppo_acktr')"
   ]
  },
  {
   "cell_type": "code",
   "execution_count": null,
   "metadata": {},
   "outputs": [],
   "source": []
  },
  {
   "cell_type": "code",
   "execution_count": 2,
   "metadata": {},
   "outputs": [],
   "source": [
    "args = Namespace()\n",
    "args.seed = 0\n",
    "args.log_interval = 10\n",
    "args.det = False\n",
    "args.root = '/is/ei/fleeb/workspace/clones/pytorch-a2c-ppo-acktr-gail'\n",
    "args.load_root = os.path.join(args.root, 'trained_models')\n",
    "\n",
    "args.batch_size = 4\n",
    "\n",
    "args.no_state = True\n",
    "args.max_steps = 1000\n",
    "\n",
    "args.alg = 'ppo'\n",
    "args.alg = 'acktr'\n",
    "\n",
    "args.load_dir = os.path.join(args.load_root, args.alg)\n",
    "\n",
    "args.env_name = 'HalfCheetah-v2'\n",
    "# args.env_name = 'BreakoutNoFrameskip-v4'\n",
    "args.env_name = 'SeaquestNoFrameskip-v4'\n",
    "args.env_name = 'AirRaidNoFrameskip-v4'\n",
    "args.env_name = 'AsterixNoFrameskip-v4'\n",
    "args.env_name = 'SpaceInvadersNoFrameskip-v4'\n",
    "args.env_name = 'AsteroidsNoFrameskip-v4'\n",
    "args.env_name = 'QbertNoFrameskip-v4'\n",
    "args.env_name = 'MsPacmanNoFrameskip-v4'"
   ]
  },
  {
   "cell_type": "code",
   "execution_count": 3,
   "metadata": {},
   "outputs": [],
   "source": [
    "# import gym\n",
    "# from gym.utils.play import play\n",
    "\n",
    "# env_name = 'QbertNoFrameskip-v4'\n",
    "\n",
    "# play(gym.make(env_name), zoom=4)\n"
   ]
  },
  {
   "cell_type": "code",
   "execution_count": 4,
   "metadata": {},
   "outputs": [],
   "source": [
    "def play_back(imgs, figax=None):\n",
    "    \n",
    "    if len(imgs.shape) > 4: # tile first\n",
    "        N, S, h, w, c = imgs.shape\n",
    "        H = int(np.ceil(np.sqrt(N)))\n",
    "        W = int(np.ceil(float(N)/H))\n",
    "        imgs = imgs.reshape(H,W,S,h,w,c)\n",
    "        imgs = imgs.transpose(2,0,3,1,4,5)\n",
    "        imgs = imgs.reshape(S,H*h,W*w,c)\n",
    "        \n",
    "    if figax is None:\n",
    "        figax = plt.subplots()\n",
    "    fig,ax = figax\n",
    "    plt.sca(ax)\n",
    "    for i,img in enumerate(imgs):\n",
    "        plt.cla()\n",
    "        plt.axis('off')\n",
    "        plt.imshow(img)\n",
    "        plt.title('{}/{}'.format(i+1,len(imgs)))\n",
    "        plt.tight_layout()\n",
    "        plt.pause(0.02)\n",
    "    return fig,ax"
   ]
  },
  {
   "cell_type": "code",
   "execution_count": 5,
   "metadata": {},
   "outputs": [
    {
     "name": "stdout",
     "output_type": "stream",
     "text": [
      "Logging to /tmp/openai-2020-01-16-12-15-22-291538\n",
      "Creating dummy env object to get spaces\n"
     ]
    }
   ],
   "source": [
    "env = make_vec_envs(\n",
    "    args.env_name,\n",
    "    args.seed + 1000,\n",
    "    args.batch_size,\n",
    "    None,\n",
    "    None,\n",
    "    device='cpu',\n",
    "    allow_early_resets=False)\n",
    "\n",
    "# Get a render function\n",
    "render_func = get_render_func(env)\n",
    "\n",
    "render_func = env.render\n",
    "\n",
    "# We need to use the same statistics for normalization as used in training\n",
    "actor_critic, ob_rms = \\\n",
    "            torch.load(os.path.join(args.load_dir, args.env_name + \".pt\"))\n",
    "\n",
    "vec_norm = get_vec_normalize(env)\n",
    "if vec_norm is not None:\n",
    "    vec_norm.eval()\n",
    "    vec_norm.ob_rms = ob_rms\n",
    "\n",
    "recurrent_hidden_states = torch.zeros(args.batch_size,\n",
    "                                      actor_critic.recurrent_hidden_state_size)\n",
    "masks = torch.zeros(args.batch_size, 1)\n",
    "\n",
    "\n"
   ]
  },
  {
   "cell_type": "code",
   "execution_count": 10,
   "metadata": {},
   "outputs": [],
   "source": [
    "playfigax = None"
   ]
  },
  {
   "cell_type": "code",
   "execution_count": 7,
   "metadata": {},
   "outputs": [
    {
     "name": "stderr",
     "output_type": "stream",
     "text": [
      "/is/ei/fleeb/anaconda3/envs/testmj/lib/python3.6/site-packages/ipykernel_launcher.py:22: TqdmDeprecationWarning: This function will be removed in tqdm==5.0.0\n",
      "Please use `tqdm.notebook.tqdm` instead of `tqdm.tqdm_notebook`\n"
     ]
    },
    {
     "data": {
      "application/vnd.jupyter.widget-view+json": {
       "model_id": "51cad7061ffe45ceb3e10b22d7afa67b",
       "version_major": 2,
       "version_minor": 0
      },
      "text/plain": [
       "HBox(children=(FloatProgress(value=0.0, max=1000.0), HTML(value='')))"
      ]
     },
     "metadata": {},
     "output_type": "display_data"
    },
    {
     "name": "stdout",
     "output_type": "stream",
     "text": [
      "rgbs (4, 1001, 210, 160, 3)\n"
     ]
    }
   ],
   "source": [
    "obs = env.reset()\n",
    "\n",
    "if args.env_name.find('Bullet') > -1:\n",
    "    import pybullet as p\n",
    "\n",
    "    torsoId = -1\n",
    "    for i in range(p.getNumBodies()):\n",
    "        if (p.getBodyInfo(i)[0].decode() == \"torso\"):\n",
    "            torsoId = i\n",
    "\n",
    "if render_func is not None:\n",
    "    rgb = render_func('rgb_array')\n",
    "    rgbs = [rgb]\n",
    "else:\n",
    "    rgbs = None\n",
    "    print('No rendering possible')\n",
    "            \n",
    "states = None if args.no_state else [obs]\n",
    "actions = []\n",
    "rewards = []\n",
    "\n",
    "pbar = tqdm(total=args.max_steps)\n",
    "\n",
    "done = np.array([False])\n",
    "step = 0\n",
    "while not done.all() and (args.max_steps is None or step < args.max_steps):\n",
    "    with torch.no_grad():\n",
    "        value, action, _, recurrent_hidden_states = actor_critic.act(\n",
    "            obs, recurrent_hidden_states, masks, deterministic=args.det)\n",
    "\n",
    "    actions.append(action)\n",
    "        \n",
    "    # Obser reward and next obs\n",
    "    obs, reward, done, _ = env.step(action)\n",
    "    step += 1\n",
    "    pbar.update(1)\n",
    "    if states is not None:\n",
    "        states.append(obs)\n",
    "    rewards.append(reward)\n",
    "        \n",
    "    masks.copy_(torch.from_numpy(~done).unsqueeze(1))\n",
    "\n",
    "    if args.env_name.find('Bullet') > -1:\n",
    "        if torsoId > -1:\n",
    "            distance = 5\n",
    "            yaw = 0\n",
    "            humanPos, humanOrn = p.getBasePositionAndOrientation(torsoId)\n",
    "            p.resetDebugVisualizerCamera(distance, yaw, -20, humanPos)\n",
    "\n",
    "    if render_func is not None:\n",
    "        rgb = render_func('rgb_array')\n",
    "        rgbs.append(rgb)\n",
    "\n",
    "\n",
    "# actions = torch.stack(actions,1)\n",
    "# print('actions', actions.shape)\n",
    "# rewards = torch.stack(rewards,1)\n",
    "# print('rewards', rewards.shape)\n",
    "# if states is not None:\n",
    "#     states = torch.cat(states)\n",
    "#     print('states', states.shape)\n",
    "if rgbs is not None:\n",
    "    rgbs = np.stack(rgbs,1)\n",
    "    print('rgbs', rgbs.shape)"
   ]
  },
  {
   "cell_type": "code",
   "execution_count": 11,
   "metadata": {},
   "outputs": [],
   "source": [
    "playfigax = play_back(rgbs, figax=playfigax)"
   ]
  },
  {
   "cell_type": "code",
   "execution_count": null,
   "metadata": {},
   "outputs": [],
   "source": []
  },
  {
   "cell_type": "code",
   "execution_count": 13,
   "metadata": {},
   "outputs": [
    {
     "name": "stdout",
     "output_type": "stream",
     "text": [
      "376M\ttest-data/Asterix\r\n",
      "358M\ttest-data/Seaquest\r\n",
      "334M\ttest-data/SpaceInvaders\r\n"
     ]
    }
   ],
   "source": [
    "!du -hs test-data/*"
   ]
  },
  {
   "cell_type": "code",
   "execution_count": null,
   "metadata": {},
   "outputs": [],
   "source": [
    "done"
   ]
  },
  {
   "cell_type": "code",
   "execution_count": 12,
   "metadata": {},
   "outputs": [
    {
     "data": {
      "text/plain": [
       "tensor([[1.],\n",
       "        [1.],\n",
       "        [1.],\n",
       "        [1.],\n",
       "        [1.],\n",
       "        [1.],\n",
       "        [1.],\n",
       "        [1.],\n",
       "        [1.],\n",
       "        [1.],\n",
       "        [1.],\n",
       "        [1.],\n",
       "        [1.],\n",
       "        [1.],\n",
       "        [1.],\n",
       "        [1.]])"
      ]
     },
     "execution_count": 12,
     "metadata": {},
     "output_type": "execute_result"
    }
   ],
   "source": [
    "masks"
   ]
  },
  {
   "cell_type": "code",
   "execution_count": 19,
   "metadata": {},
   "outputs": [],
   "source": [
    "import h5py as hf"
   ]
  },
  {
   "cell_type": "code",
   "execution_count": 25,
   "metadata": {},
   "outputs": [],
   "source": [
    "root = '/is/ei/fleeb/workspace/clones/pytorch-a2c-ppo-acktr-gail/'"
   ]
  },
  {
   "cell_type": "code",
   "execution_count": 35,
   "metadata": {},
   "outputs": [
    {
     "data": {
      "text/plain": [
       "['images']"
      ]
     },
     "execution_count": 35,
     "metadata": {},
     "output_type": "execute_result"
    }
   ],
   "source": [
    "f = hf.File(os.path.join(root, 'test-data', 'AsterixNoFrameskip-v4_16x1024_batch0.h5'),'r')\n",
    "list(f.keys())"
   ]
  },
  {
   "cell_type": "code",
   "execution_count": 36,
   "metadata": {},
   "outputs": [
    {
     "data": {
      "text/plain": [
       "(16, 1024)"
      ]
     },
     "execution_count": 36,
     "metadata": {},
     "output_type": "execute_result"
    }
   ],
   "source": [
    "f['images'].shape"
   ]
  },
  {
   "cell_type": "code",
   "execution_count": 37,
   "metadata": {},
   "outputs": [
    {
     "data": {
      "text/plain": [
       "(16, 1024)"
      ]
     },
     "execution_count": 37,
     "metadata": {},
     "output_type": "execute_result"
    }
   ],
   "source": [
    "raw = f['images'][()]\n",
    "raw.shape"
   ]
  },
  {
   "cell_type": "code",
   "execution_count": 40,
   "metadata": {},
   "outputs": [
    {
     "data": {
      "text/plain": [
       "<matplotlib.image.AxesImage at 0x7f32726c89e8>"
      ]
     },
     "execution_count": 40,
     "metadata": {},
     "output_type": "execute_result"
    }
   ],
   "source": [
    "img = util.str_to_rgb(raw[0,50])"
   ]
  },
  {
   "cell_type": "code",
   "execution_count": 41,
   "metadata": {},
   "outputs": [],
   "source": [
    "img = img[::2,::2]"
   ]
  },
  {
   "cell_type": "code",
   "execution_count": 43,
   "metadata": {},
   "outputs": [
    {
     "data": {
      "text/plain": [
       "(105, 80, 3)"
      ]
     },
     "execution_count": 43,
     "metadata": {},
     "output_type": "execute_result"
    }
   ],
   "source": [
    "img.shape"
   ]
  },
  {
   "cell_type": "code",
   "execution_count": 42,
   "metadata": {},
   "outputs": [
    {
     "data": {
      "text/plain": [
       "<matplotlib.image.AxesImage at 0x7f327270a828>"
      ]
     },
     "execution_count": 42,
     "metadata": {},
     "output_type": "execute_result"
    }
   ],
   "source": [
    "plt.imshow(img)"
   ]
  },
  {
   "cell_type": "code",
   "execution_count": null,
   "metadata": {},
   "outputs": [],
   "source": []
  },
  {
   "cell_type": "code",
   "execution_count": null,
   "metadata": {},
   "outputs": [],
   "source": []
  },
  {
   "cell_type": "code",
   "execution_count": null,
   "metadata": {},
   "outputs": [],
   "source": []
  }
 ],
 "metadata": {
  "kernelspec": {
   "display_name": "Python 3",
   "language": "python",
   "name": "python3"
  },
  "language_info": {
   "codemirror_mode": {
    "name": "ipython",
    "version": 3
   },
   "file_extension": ".py",
   "mimetype": "text/x-python",
   "name": "python",
   "nbconvert_exporter": "python",
   "pygments_lexer": "ipython3",
   "version": "3.6.10"
  }
 },
 "nbformat": 4,
 "nbformat_minor": 4
}
